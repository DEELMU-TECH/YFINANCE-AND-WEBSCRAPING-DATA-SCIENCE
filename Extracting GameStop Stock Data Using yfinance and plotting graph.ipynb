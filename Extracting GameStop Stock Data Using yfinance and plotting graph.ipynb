{
 "cells": [
  {
   "cell_type": "code",
   "execution_count": 1,
   "metadata": {},
   "outputs": [
    {
     "name": "stdout",
     "output_type": "stream",
     "text": [
      "Requirement already satisfied: yfinance==0.1.67 in c:\\users\\admin\\anaconda3\\lib\\site-packages (0.1.67)\n",
      "Requirement already satisfied: pandas>=0.24 in c:\\users\\admin\\anaconda3\\lib\\site-packages (from yfinance==0.1.67) (1.3.3)\n",
      "Requirement already satisfied: multitasking>=0.0.7 in c:\\users\\admin\\anaconda3\\lib\\site-packages (from yfinance==0.1.67) (0.0.10)\n",
      "Requirement already satisfied: requests>=2.20 in c:\\users\\admin\\anaconda3\\lib\\site-packages (from yfinance==0.1.67) (2.26.0)\n",
      "Requirement already satisfied: numpy>=1.15 in c:\\users\\admin\\anaconda3\\lib\\site-packages (from yfinance==0.1.67) (1.20.1)\n",
      "Requirement already satisfied: lxml>=4.5.1 in c:\\users\\admin\\anaconda3\\lib\\site-packages (from yfinance==0.1.67) (4.6.4)\n",
      "Requirement already satisfied: pytz>=2017.3 in c:\\users\\admin\\anaconda3\\lib\\site-packages (from pandas>=0.24->yfinance==0.1.67) (2021.1)\n",
      "Requirement already satisfied: python-dateutil>=2.7.3 in c:\\users\\admin\\anaconda3\\lib\\site-packages (from pandas>=0.24->yfinance==0.1.67) (2.8.1)\n",
      "Requirement already satisfied: six>=1.5 in c:\\users\\admin\\anaconda3\\lib\\site-packages (from python-dateutil>=2.7.3->pandas>=0.24->yfinance==0.1.67) (1.15.0)\n",
      "Requirement already satisfied: certifi>=2017.4.17 in c:\\users\\admin\\anaconda3\\lib\\site-packages (from requests>=2.20->yfinance==0.1.67) (2020.12.5)\n",
      "Requirement already satisfied: urllib3<1.27,>=1.21.1 in c:\\users\\admin\\anaconda3\\lib\\site-packages (from requests>=2.20->yfinance==0.1.67) (1.26.4)\n",
      "Requirement already satisfied: charset-normalizer~=2.0.0 in c:\\users\\admin\\anaconda3\\lib\\site-packages (from requests>=2.20->yfinance==0.1.67) (2.0.12)\n",
      "Requirement already satisfied: idna<4,>=2.5 in c:\\users\\admin\\anaconda3\\lib\\site-packages (from requests>=2.20->yfinance==0.1.67) (2.10)\n"
     ]
    }
   ],
   "source": [
    "!pip install yfinance==0.1.67\n",
    "#!pip install pandas==1.3.3\n",
    "import yfinance as yf\n",
    "import pandas as pd"
   ]
  },
  {
   "cell_type": "code",
   "execution_count": 2,
   "metadata": {},
   "outputs": [],
   "source": [
    "gamestop = yf.Ticker(\"GME\")"
   ]
  },
  {
   "cell_type": "markdown",
   "metadata": {},
   "source": [
    "### Stock Info\n"
   ]
  },
  {
   "cell_type": "code",
   "execution_count": 3,
   "metadata": {},
   "outputs": [
    {
     "data": {
      "text/plain": [
       "{'zip': '76051',\n",
       " 'sector': 'Consumer Cyclical',\n",
       " 'fullTimeEmployees': 12000,\n",
       " 'longBusinessSummary': 'GameStop Corp., a specialty retailer, provides games and entertainment products through its e-commerce properties and various stores in the United States, Canada, Australia, and Europe. The company sells new and pre-owned gaming platforms; accessories, such as controllers, gaming headsets, virtual reality products, and memory cards; new and pre-owned gaming software; and in-game digital currency, digital downloadable content, and full-game downloads. It also sells collectibles comprising licensed merchandise primarily related to the gaming, television, and movie industries, as well as pop culture themes. As of January 29, 2022, the company operated 4,573 stores and ecommerce sites under the GameStop, EB Games, and Micromania brands; and 50 pop culture themed stores that sell collectibles, apparel, gadgets, electronics, toys, and other retail products under the Zing Pop Culture brand, as well as offers Game Informer, a print and digital video game publication featuring reviews of new releases, previews of the big titles on the horizon, and coverage of the latest developments in the gaming industry. The company was formerly known as GSC Holdings Corp. GameStop Corp. was founded in 1996 and is headquartered in Grapevine, Texas.',\n",
       " 'city': 'Grapevine',\n",
       " 'phone': '817 424 2000',\n",
       " 'state': 'TX',\n",
       " 'country': 'United States',\n",
       " 'companyOfficers': [],\n",
       " 'website': 'https://www.gamestop.com',\n",
       " 'maxAge': 1,\n",
       " 'address1': '625 Westport Parkway',\n",
       " 'industry': 'Specialty Retail',\n",
       " 'ebitdaMargins': -0.04359,\n",
       " 'profitMargins': -0.063439995,\n",
       " 'grossMargins': 0.22423,\n",
       " 'operatingCashflow': -434300000,\n",
       " 'revenueGrowth': 0.062,\n",
       " 'operatingMargins': -0.05643,\n",
       " 'ebitda': -262000000,\n",
       " 'targetLowPrice': 23,\n",
       " 'recommendationKey': 'underperform',\n",
       " 'grossProfits': 1347800000,\n",
       " 'freeCashflow': -296512512,\n",
       " 'targetMedianPrice': 30,\n",
       " 'currentPrice': 138.22,\n",
       " 'earningsGrowth': None,\n",
       " 'currentRatio': 1.918,\n",
       " 'returnOnAssets': -0.071,\n",
       " 'numberOfAnalystOpinions': 3,\n",
       " 'targetMeanPrice': 47.67,\n",
       " 'debtToEquity': 40.499,\n",
       " 'returnOnEquity': -0.37397,\n",
       " 'targetHighPrice': 90,\n",
       " 'totalCash': 1271399936,\n",
       " 'totalDebt': 649000000,\n",
       " 'totalRevenue': 6010699776,\n",
       " 'totalCashPerShare': 16.74,\n",
       " 'financialCurrency': 'USD',\n",
       " 'revenuePerShare': 82.792,\n",
       " 'quickRatio': 1.167,\n",
       " 'recommendationMean': 4,\n",
       " 'exchange': 'NYQ',\n",
       " 'shortName': 'GameStop Corporation',\n",
       " 'longName': 'GameStop Corp.',\n",
       " 'exchangeTimezoneName': 'America/New_York',\n",
       " 'exchangeTimezoneShortName': 'EDT',\n",
       " 'isEsgPopulated': False,\n",
       " 'gmtOffSetMilliseconds': '-14400000',\n",
       " 'quoteType': 'EQUITY',\n",
       " 'symbol': 'GME',\n",
       " 'messageBoardId': 'finmb_1342560',\n",
       " 'market': 'us_market',\n",
       " 'annualHoldingsTurnover': None,\n",
       " 'enterpriseToRevenue': 1.777,\n",
       " 'beta3Year': None,\n",
       " 'enterpriseToEbitda': -40.774,\n",
       " '52WeekChange': -0.06363273,\n",
       " 'morningStarRiskRating': None,\n",
       " 'forwardEps': -3,\n",
       " 'revenueQuarterlyGrowth': None,\n",
       " 'sharesOutstanding': 76339200,\n",
       " 'fundInceptionDate': None,\n",
       " 'annualReportExpenseRatio': None,\n",
       " 'totalAssets': None,\n",
       " 'bookValue': 21.222,\n",
       " 'sharesShort': 12249471,\n",
       " 'sharesPercentSharesOut': 0.16049999,\n",
       " 'fundFamily': None,\n",
       " 'lastFiscalYearEnd': 1643414400,\n",
       " 'heldPercentInstitutions': 0.26783,\n",
       " 'netIncomeToCommon': -381300000,\n",
       " 'trailingEps': -5.252,\n",
       " 'lastDividendValue': 0.38,\n",
       " 'SandP52WeekChange': 0.05107212,\n",
       " 'priceToBook': 6.5130525,\n",
       " 'heldPercentInsiders': 0.16351,\n",
       " 'nextFiscalYearEnd': 1706486400,\n",
       " 'yield': None,\n",
       " 'mostRecentQuarter': 1643414400,\n",
       " 'shortRatio': 1.83,\n",
       " 'sharesShortPreviousMonthDate': 1646006400,\n",
       " 'floatShares': 62988030,\n",
       " 'beta': -1.521568,\n",
       " 'enterpriseValue': 10682831872,\n",
       " 'priceHint': 2,\n",
       " 'threeYearAverageReturn': None,\n",
       " 'lastSplitDate': 1174262400,\n",
       " 'lastSplitFactor': '2:1',\n",
       " 'legalType': None,\n",
       " 'lastDividendDate': 1552521600,\n",
       " 'morningStarOverallRating': None,\n",
       " 'earningsQuarterlyGrowth': None,\n",
       " 'priceToSalesTrailing12Months': 1.7554702,\n",
       " 'dateShortInterest': 1648684800,\n",
       " 'pegRatio': 0.59,\n",
       " 'ytdReturn': None,\n",
       " 'forwardPE': -46.073334,\n",
       " 'lastCapGain': None,\n",
       " 'shortPercentOfFloat': 0.2642,\n",
       " 'sharesShortPriorMonth': 11713653,\n",
       " 'impliedSharesOutstanding': 0,\n",
       " 'category': None,\n",
       " 'fiveYearAverageReturn': None,\n",
       " 'previousClose': 141.56,\n",
       " 'regularMarketOpen': 142.55,\n",
       " 'twoHundredDayAverage': 159.9667,\n",
       " 'trailingAnnualDividendYield': 0,\n",
       " 'payoutRatio': 0,\n",
       " 'volume24Hr': None,\n",
       " 'regularMarketDayHigh': 146.3,\n",
       " 'navPrice': None,\n",
       " 'averageDailyVolume10Day': 2303270,\n",
       " 'regularMarketPreviousClose': 141.56,\n",
       " 'fiftyDayAverage': 129.206,\n",
       " 'trailingAnnualDividendRate': 0,\n",
       " 'open': 142.55,\n",
       " 'toCurrency': None,\n",
       " 'averageVolume10days': 2303270,\n",
       " 'expireDate': None,\n",
       " 'algorithm': None,\n",
       " 'dividendRate': None,\n",
       " 'exDividendDate': 1552521600,\n",
       " 'circulatingSupply': None,\n",
       " 'startDate': None,\n",
       " 'regularMarketDayLow': 135.5994,\n",
       " 'currency': 'USD',\n",
       " 'regularMarketVolume': 1527529,\n",
       " 'lastMarket': None,\n",
       " 'maxSupply': None,\n",
       " 'openInterest': None,\n",
       " 'marketCap': 10551604224,\n",
       " 'volumeAllCurrencies': None,\n",
       " 'strikePrice': None,\n",
       " 'averageVolume': 4575974,\n",
       " 'dayLow': 135.5994,\n",
       " 'ask': 138,\n",
       " 'askSize': 1000,\n",
       " 'volume': 1527529,\n",
       " 'fiftyTwoWeekHigh': 344.66,\n",
       " 'fromCurrency': None,\n",
       " 'fiveYearAvgDividendYield': None,\n",
       " 'fiftyTwoWeekLow': 77.58,\n",
       " 'bid': 138,\n",
       " 'tradeable': False,\n",
       " 'dividendYield': None,\n",
       " 'bidSize': 1000,\n",
       " 'dayHigh': 146.3,\n",
       " 'regularMarketPrice': 138.22,\n",
       " 'preMarketPrice': 142.93,\n",
       " 'logo_url': 'https://logo.clearbit.com/gamestop.com'}"
      ]
     },
     "execution_count": 3,
     "metadata": {},
     "output_type": "execute_result"
    }
   ],
   "source": [
    "gamestop_info=gamestop.info\n",
    "gamestop_info"
   ]
  },
  {
   "cell_type": "code",
   "execution_count": 4,
   "metadata": {},
   "outputs": [
    {
     "data": {
      "text/plain": [
       "'United States'"
      ]
     },
     "execution_count": 4,
     "metadata": {},
     "output_type": "execute_result"
    }
   ],
   "source": [
    "gamestop_info['country']"
   ]
  },
  {
   "cell_type": "markdown",
   "metadata": {},
   "source": [
    "### Extracting Share Price\n"
   ]
  },
  {
   "cell_type": "code",
   "execution_count": 5,
   "metadata": {},
   "outputs": [],
   "source": [
    "gamestop_share_price_data = gamestop.history(period=\"max\")"
   ]
  },
  {
   "cell_type": "code",
   "execution_count": 6,
   "metadata": {},
   "outputs": [
    {
     "data": {
      "text/html": [
       "<div>\n",
       "<style scoped>\n",
       "    .dataframe tbody tr th:only-of-type {\n",
       "        vertical-align: middle;\n",
       "    }\n",
       "\n",
       "    .dataframe tbody tr th {\n",
       "        vertical-align: top;\n",
       "    }\n",
       "\n",
       "    .dataframe thead th {\n",
       "        text-align: right;\n",
       "    }\n",
       "</style>\n",
       "<table border=\"1\" class=\"dataframe\">\n",
       "  <thead>\n",
       "    <tr style=\"text-align: right;\">\n",
       "      <th></th>\n",
       "      <th>Open</th>\n",
       "      <th>High</th>\n",
       "      <th>Low</th>\n",
       "      <th>Close</th>\n",
       "      <th>Volume</th>\n",
       "      <th>Dividends</th>\n",
       "      <th>Stock Splits</th>\n",
       "    </tr>\n",
       "    <tr>\n",
       "      <th>Date</th>\n",
       "      <th></th>\n",
       "      <th></th>\n",
       "      <th></th>\n",
       "      <th></th>\n",
       "      <th></th>\n",
       "      <th></th>\n",
       "      <th></th>\n",
       "    </tr>\n",
       "  </thead>\n",
       "  <tbody>\n",
       "    <tr>\n",
       "      <th>2002-02-13</th>\n",
       "      <td>6.480515</td>\n",
       "      <td>6.773401</td>\n",
       "      <td>6.413185</td>\n",
       "      <td>6.766668</td>\n",
       "      <td>19054000</td>\n",
       "      <td>0.0</td>\n",
       "      <td>0.0</td>\n",
       "    </tr>\n",
       "    <tr>\n",
       "      <th>2002-02-14</th>\n",
       "      <td>6.850827</td>\n",
       "      <td>6.864293</td>\n",
       "      <td>6.682502</td>\n",
       "      <td>6.733000</td>\n",
       "      <td>2755400</td>\n",
       "      <td>0.0</td>\n",
       "      <td>0.0</td>\n",
       "    </tr>\n",
       "    <tr>\n",
       "      <th>2002-02-15</th>\n",
       "      <td>6.733001</td>\n",
       "      <td>6.749833</td>\n",
       "      <td>6.632006</td>\n",
       "      <td>6.699336</td>\n",
       "      <td>2097400</td>\n",
       "      <td>0.0</td>\n",
       "      <td>0.0</td>\n",
       "    </tr>\n",
       "    <tr>\n",
       "      <th>2002-02-19</th>\n",
       "      <td>6.665671</td>\n",
       "      <td>6.665671</td>\n",
       "      <td>6.312189</td>\n",
       "      <td>6.430017</td>\n",
       "      <td>1852600</td>\n",
       "      <td>0.0</td>\n",
       "      <td>0.0</td>\n",
       "    </tr>\n",
       "    <tr>\n",
       "      <th>2002-02-20</th>\n",
       "      <td>6.463682</td>\n",
       "      <td>6.648839</td>\n",
       "      <td>6.413184</td>\n",
       "      <td>6.648839</td>\n",
       "      <td>1723200</td>\n",
       "      <td>0.0</td>\n",
       "      <td>0.0</td>\n",
       "    </tr>\n",
       "  </tbody>\n",
       "</table>\n",
       "</div>"
      ],
      "text/plain": [
       "                Open      High       Low     Close    Volume  Dividends  \\\n",
       "Date                                                                      \n",
       "2002-02-13  6.480515  6.773401  6.413185  6.766668  19054000        0.0   \n",
       "2002-02-14  6.850827  6.864293  6.682502  6.733000   2755400        0.0   \n",
       "2002-02-15  6.733001  6.749833  6.632006  6.699336   2097400        0.0   \n",
       "2002-02-19  6.665671  6.665671  6.312189  6.430017   1852600        0.0   \n",
       "2002-02-20  6.463682  6.648839  6.413184  6.648839   1723200        0.0   \n",
       "\n",
       "            Stock Splits  \n",
       "Date                      \n",
       "2002-02-13           0.0  \n",
       "2002-02-14           0.0  \n",
       "2002-02-15           0.0  \n",
       "2002-02-19           0.0  \n",
       "2002-02-20           0.0  "
      ]
     },
     "execution_count": 6,
     "metadata": {},
     "output_type": "execute_result"
    }
   ],
   "source": [
    "gamestop_share_price_data.head()"
   ]
  },
  {
   "cell_type": "code",
   "execution_count": 7,
   "metadata": {},
   "outputs": [],
   "source": [
    "gamestop_share_price_data.reset_index(inplace=True)"
   ]
  },
  {
   "cell_type": "code",
   "execution_count": 8,
   "metadata": {},
   "outputs": [
    {
     "data": {
      "text/plain": [
       "<AxesSubplot:title={'center':'GameStop stock graph'}, xlabel='Date'>"
      ]
     },
     "execution_count": 8,
     "metadata": {},
     "output_type": "execute_result"
    },
    {
     "data": {
      "image/png": "[encoded data removed]",
      "text/plain": [
       "<Figure size 432x288 with 1 Axes>"
      ]
     },
     "metadata": {
      "needs_background": "light"
     },
     "output_type": "display_data"
    }
   ],
   "source": [
    "gamestop_share_price_data.plot(x=\"Date\", y=\"Open\", title=\"GameStop stock graph\")"
   ]
  },
  {
   "cell_type": "markdown",
   "metadata": {},
   "source": [
    "### Extracting Dividends\n"
   ]
  },
  {
   "cell_type": "code",
   "execution_count": 9,
   "metadata": {},
   "outputs": [
    {
     "data": {
      "text/plain": [
       "Date\n",
       "2012-02-16    0.150\n",
       "2012-05-24    0.150\n",
       "2012-08-24    0.250\n",
       "2012-11-26    0.250\n",
       "2013-03-01    0.275\n",
       "2013-05-31    0.275\n",
       "2013-08-29    0.275\n",
       "2013-12-02    0.275\n",
       "2014-03-13    0.330\n",
       "2014-06-02    0.330\n",
       "2014-08-29    0.330\n",
       "2014-11-21    0.330\n",
       "2015-03-13    0.360\n",
       "2015-06-08    0.360\n",
       "2015-09-04    0.360\n",
       "2015-12-01    0.360\n",
       "2016-03-04    0.370\n",
       "2016-06-06    0.370\n",
       "2016-09-07    0.370\n",
       "2016-11-29    0.370\n",
       "2017-03-10    0.380\n",
       "2017-06-05    0.380\n",
       "2017-09-07    0.380\n",
       "2017-11-30    0.380\n",
       "2018-03-02    0.380\n",
       "2018-06-11    0.380\n",
       "2018-09-17    0.380\n",
       "2018-12-10    0.380\n",
       "2019-03-14    0.380\n",
       "Name: Dividends, dtype: float64"
      ]
     },
     "execution_count": 9,
     "metadata": {},
     "output_type": "execute_result"
    }
   ],
   "source": [
    "gamestop.dividends"
   ]
  },
  {
   "cell_type": "code",
   "execution_count": 10,
   "metadata": {},
   "outputs": [
    {
     "data": {
      "text/plain": [
       "<AxesSubplot:xlabel='Date'>"
      ]
     },
     "execution_count": 10,
     "metadata": {},
     "output_type": "execute_result"
    },
    {
     "data": {
      "image/png": "[encoded data removed]",
      "text/plain": [
       "<Figure size 432x288 with 1 Axes>"
      ]
     },
     "metadata": {
      "needs_background": "light"
     },
     "output_type": "display_data"
    }
   ],
   "source": [
    "gamestop.dividends.plot()"
   ]
  }
 ],
 "metadata": {
  "kernelspec": {
   "display_name": "Python 3",
   "language": "python",
   "name": "python3"
  },
  "language_info": {
   "codemirror_mode": {
    "name": "ipython",
    "version": 3
   },
   "file_extension": ".py",
   "mimetype": "text/x-python",
   "name": "python",
   "nbconvert_exporter": "python",
   "pygments_lexer": "ipython3",
   "version": "3.8.8"
  }
 },
 "nbformat": 4,
 "nbformat_minor": 4
}
